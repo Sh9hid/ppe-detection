{
  "nbformat": 4,
  "nbformat_minor": 0,
  "metadata": {
    "colab": {
      "provenance": [],
      "toc_visible": true
    },
    "kernelspec": {
      "name": "python3",
      "display_name": "Python 3"
    },
    "language_info": {
      "name": "python"
    }
  },
  "cells": [
    {
      "cell_type": "markdown",
      "source": [
        "\n",
        "# Person and PPE Detection (You-Only-Look-Once v8)\n",
        "Trained on person and ppe-class. utils\\preview.py for viewing most-inaccurate labels.\n",
        "\n",
        "Here's the link to the [Google Colab notebook](https://colab.research.google.com/drive/1Wrp33aq26xWiuC8pJQwP4IQxoXzcmoee?usp=sharing).\n",
        "\n",
        " ## Installation\n",
        "\n",
        " 1. Create a new environment\n",
        "\n",
        "```\n",
        "python -m venv .venv\n",
        ".venv/Scripts/activate # on windows\n",
        "or\n",
        "source .venv/bin/activate # on linux\n",
        "```\n",
        "2. Create a new .env file and edit file paths.\n",
        "\n",
        "```\n",
        "# Define the directories\n",
        "INPUT_DIR = 'datasets\\labels'\n",
        "OUTPUT_DIR_PERSON = 'datasets/labels-person'\n",
        "OUTPUT_DIR_PPE = 'datasets/labels-ppe'\n",
        "```\n",
        "\n",
        "3. Install Dependencies\n",
        "\n",
        "```\n",
        "pip install -r requirements.txt\n",
        "```\n",
        "\n",
        "4. Perform inference using the cli using,\n",
        "\n",
        "```\n",
        "yolo predict model='models\\best.pt' source=' path/to/jpeg/dir'\n",
        "```\n",
        "or using opencv bounding boxes\n",
        "\n",
        "```\n",
        "python perform_inference.py path/to/input_dir, path/to/output_dir, path/to/person_det_model path/to/ppe_detection_model\n",
        "```\n",
        "\n",
        "## Summary:\n",
        "\n",
        "1. Utils contains split_data.py for training and preview.py to view bounding boxes to drop the most inaccurate classes.\n",
        "2. Models in weights directory.\n",
        "3. Trained on 20 epochs each for persons and ppe.\n",
        "4. perform_inference.py and pascalVOC_to_yolo.py using argparse for inference using the cli.\n",
        "5. predict-cv, predict-person, predict-ppe for bounding boxes with open-cv, model1 i.e person class, model2 i.e ppe-class.\n",
        "\n",
        "\n",
        "## ROADMAP\n",
        "\n",
        "1. Improve accuracy.\n",
        "2. Drop hard-hat, mask, etc. Train with fewer labels.\n",
        "3. More readability.\n",
        "4. More modularity, better code-structure.\n",
        "5. Add summary to notebook.  \n",
        "6. Dockerize.\n",
        "\n",
        "## CHALLENGES:\n",
        "1. Time. Deadlines."
      ],
      "metadata": {
        "id": "jK64IMUA3luo"
      }
    },
    {
      "cell_type": "code",
      "source": [
        "!nvidia-smi"
      ],
      "metadata": {
        "id": "qFdmpAbqsoO0"
      },
      "execution_count": null,
      "outputs": []
    },
    {
      "cell_type": "markdown",
      "source": [
        "\n",
        "# 1. Clone this [repository](https://github.com/Sh9hid/ppe-detection.git)\n",
        "\n"
      ],
      "metadata": {
        "id": "CwbpMbENe9Bz"
      }
    },
    {
      "cell_type": "code",
      "execution_count": null,
      "metadata": {
        "id": "Nq9aHEQpeRVK"
      },
      "outputs": [],
      "source": [
        "!git clone https://github.com/Sh9hid/ppe-detection.git"
      ]
    },
    {
      "cell_type": "markdown",
      "source": [
        "# 2. Set-up environment"
      ],
      "metadata": {
        "id": "6NoZSEjEfWmS"
      }
    },
    {
      "cell_type": "code",
      "source": [
        "#python -m venv .venv\n",
        "#source .venv/bin/activate\n",
        "%cd ppe-detection\n",
        "pip install -r requirements.txt"
      ],
      "metadata": {
        "id": "yOjWxHCBfVuE"
      },
      "execution_count": null,
      "outputs": []
    },
    {
      "cell_type": "markdown",
      "source": [
        "# 3. Run"
      ],
      "metadata": {
        "id": "muRz4xxJfv4k"
      }
    },
    {
      "cell_type": "code",
      "source": [
        "!python convert_to_yolo.py path/to/input_dir path/to/output_dir_person path/to/output_dir_ppe\n",
        "\n",
        "!python perform_inference.py path/to/input_dir, path/to/output_dir, path/to/person_det_model path/to/ppe_detection_model\n"
      ],
      "metadata": {
        "id": "6ERIdTn6fu_M"
      },
      "execution_count": null,
      "outputs": []
    }
  ]
}